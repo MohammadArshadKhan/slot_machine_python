{
 "cells": [
  {
   "cell_type": "code",
   "execution_count": 1,
   "metadata": {
    "scrolled": true
   },
   "outputs": [],
   "source": [
    " class Purse:\n",
    "    def __init__(self):\n",
    "        self.balance=10;\n",
    "        \n",
    "     #For adding the prize amount to the total balance   \n",
    "    def credit(self,amount):\n",
    "        self.balance+=amount\n",
    "        \n",
    "     #For debiting the amount of bet from the total balance   \n",
    "    def debit(self,amount):\n",
    "        if(amount <= self.balance): #checking the condition for bet amount should be less than the balance\n",
    "            self.balance-=amount\n",
    "            return True\n",
    "        else:\n",
    "            return False\n",
    "     #Getting the balance in the purse   \n",
    "    def get_balance_amount(self):\n",
    "        return self.balance\n",
    "\n",
    "     "
   ]
  },
  {
   "cell_type": "code",
   "execution_count": 2,
   "metadata": {},
   "outputs": [],
   "source": [
    "import emoji\n",
    "from random import choice\n",
    "class Coloumn:\n",
    "    current_face = emoji.emojize(':red_apple:')\n",
    "    def __init__(self):\n",
    "        self.change_face() #Calling the change_face method at object creation \n",
    "    \n",
    "    def change_face(self):\n",
    "        faces = [emoji.emojize(':red_apple:'),\n",
    "         emoji.emojize(':pear:'),\n",
    "         emoji.emojize(':tangerine:')\n",
    "        ]\n",
    "        self.current_face=choice(faces)\n",
    "    "
   ]
  },
  {
   "cell_type": "code",
   "execution_count": 3,
   "metadata": {},
   "outputs": [],
   "source": [
    "class slot():\n",
    "    coloumnTuple=None\n",
    "    purse= None\n",
    "        \n",
    "    def __init__(self):\n",
    "        coloumn1=Coloumn()\n",
    "        coloumn2=Coloumn()\n",
    "        coloumn3=Coloumn()\n",
    "        self.coloumnTuple=(coloumn1,coloumn2,coloumn3)\n",
    "        p1=Purse()\n",
    "        self.purse=p1\n",
    "        \n",
    "\n",
    "    #to get the emoji       \n",
    "    def pull_handle(self):\n",
    "        for coloumn in self.coloumnTuple:\n",
    "            coloumn.change_face()\n",
    "            \n",
    "     #to show the emoji  \n",
    "    def show_slot(self):\n",
    "         for coloumn in self.coloumnTuple:\n",
    "            print(coloumn.current_face,end=\"\")\n",
    "            \n",
    "      #to calculate the score on the basis of matches in emoji      \n",
    "    def score_slot (self,bet_amount):\n",
    "        if (self.coloumnTuple[0].current_face== self.coloumnTuple[1].current_face== self.coloumnTuple[2].current_face):\n",
    "            self.purse.credit(2*bet_amount)\n",
    "            self.purse.get_balance_amount()\n",
    "            print(\"\\nYou Score \",2*bet_amount,end=\"\")\n",
    "\n",
    "        elif(self.coloumnTuple[0].current_face== self.coloumnTuple[1].current_face or self.coloumnTuple[0].current_face==self.coloumnTuple[2].current_face or self.coloumnTuple[1].current_face==self.coloumnTuple[2].current_face):\n",
    "            self.purse.credit(1.5*bet_amount)\n",
    "            self.purse.get_balance_amount()\n",
    "            print(\"\\nYou Score \",1.5*bet_amount,end=\"\")\n",
    "            \n",
    "        else:\n",
    "            self.purse.debit(bet_amount)\n",
    "            self.purse.get_balance_amount()\n",
    "            print(\"\\nYou Score \",0*bet_amount,end=\"\")\n",
    "            \n",
    "            \n",
    "    # main funtion to start the slot machine  \n",
    "    def take_bet(self):\n",
    "        print(\"==========SLOT MACHINE===========\")\n",
    "        print(\"Minimum bet is 2. Type 'N' to exit.\")\n",
    "        print(\"you have 10.00\")\n",
    "        flag = True\n",
    "        while flag:\n",
    "            bet_amount = input(\"How much do you bet: \")\n",
    "            if bet_amount.isalpha():\n",
    "                if bet_amount =='N' or bet_amount =='n':\n",
    "                    print(\"Thank you for playing.\\nYou are leaving with\",self.purse.balance)\n",
    "                    flag = False\n",
    "                else:\n",
    "                    print(\"Invalid Input\")\n",
    "                    \n",
    "            elif float(bet_amount)>=2:\n",
    "                bet_amount=float(bet_amount)\n",
    "                if self.purse.debit(bet_amount)== False:\n",
    "                    print(\"Bet amount should be less than balance so, exiting\")\n",
    "                    flag=False\n",
    "                else:\n",
    "                    self.pull_handle()\n",
    "                    self.show_slot()\n",
    "                    self.score_slot(bet_amount)\n",
    "                    print(\" - you have \",self.purse.balance,\"\\n\")\n",
    "                \n",
    "            \n",
    "\n",
    "    \n",
    "                    \n",
    "                        \n",
    "                    \n",
    "                    \n",
    "                \n",
    "                \n",
    "                                        \n",
    "                \n",
    "                    \n",
    "        "
   ]
  },
  {
   "cell_type": "code",
   "execution_count": null,
   "metadata": {
    "scrolled": false
   },
   "outputs": [
    {
     "name": "stdout",
     "output_type": "stream",
     "text": [
      "==========SLOT MACHINE===========\n",
      "Minimum bet is 2. Type 'N' to exit.\n",
      "you have 10.00\n",
      "How much do you bet: 4\n",
      "🍊🍎🍊\n",
      "You Score  6.0 - you have  12.0 \n",
      "\n"
     ]
    }
   ],
   "source": [
    "s1= slot()\n",
    "s1.take_bet()"
   ]
  },
  {
   "cell_type": "code",
   "execution_count": null,
   "metadata": {},
   "outputs": [],
   "source": []
  }
 ],
 "metadata": {
  "kernelspec": {
   "display_name": "Python 3",
   "language": "python",
   "name": "python3"
  },
  "language_info": {
   "codemirror_mode": {
    "name": "ipython",
    "version": 3
   },
   "file_extension": ".py",
   "mimetype": "text/x-python",
   "name": "python",
   "nbconvert_exporter": "python",
   "pygments_lexer": "ipython3",
   "version": "3.7.3"
  }
 },
 "nbformat": 4,
 "nbformat_minor": 2
}
